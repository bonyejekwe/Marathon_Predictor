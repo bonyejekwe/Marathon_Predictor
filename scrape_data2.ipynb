{
 "cells": [
  {
   "cell_type": "code",
   "execution_count": 100,
   "metadata": {},
   "outputs": [],
   "source": [
    "from scrape_data import get_runner_ids, get_splits, load_nyc_data\n",
    "import pandas as pd\n",
    "# import requests\n",
    "# import json\n",
    "\n",
    "# x = get_runner_ids(eventCode=\"M2023\", place1=51340, place2=51348)\n",
    "# get_splits(runner_id=43928778)  # AssertionError\n",
    "\n",
    "yr = 19\n",
    "load_info = {24: 55270, 23: 51348, 22: 47745, 21: 24949, 19: 53520, 18: 52706, 17: 50641, 16: 51275}\n",
    "num = load_info[yr]\n",
    "# tables = load_nyc_data(last_runner=num, eventCode=f\"M20{yr}\")\n",
    "# pd.concat(tables).to_csv(f\"raw_data/nyc/nyc_names{yr}.csv\", index=False)"
   ]
  },
  {
   "cell_type": "code",
   "execution_count": null,
   "metadata": {},
   "outputs": [],
   "source": [
    "# pd.concat(tables).to_csv(\"raw_data/nyc/nyc_names19.csv\", index=False)"
   ]
  },
  {
   "cell_type": "code",
   "execution_count": 97,
   "metadata": {},
   "outputs": [],
   "source": [
    "combined = pd.concat([pd.read_csv(\"raw_data/nyc/nyc_times23.csv\"), pd.read_csv(\"raw_data/nyc/nyc_times23_0.csv\"), pd.read_csv(\"raw_data/nyc/nyc_times23_1.csv\"), pd.read_csv(\"raw_data/nyc/nyc_times23_.csv\")])\n",
    "combined.drop(\"Unnamed: 0\", axis=1).drop_duplicates().to_csv(\"raw_data/nyc/nyc_times23.csv\", index=False)\n",
    "# combined.drop(\"Unnamed: 0\", axis=1).drop_duplicates()"
   ]
  },
  {
   "cell_type": "code",
   "execution_count": null,
   "metadata": {},
   "outputs": [],
   "source": [
    "# pd.read_csv(f\"raw_data/nyc/nyc_names{year}.csv\").merge(combined.drop(\"Unnamed: 0\", axis=1).drop_duplicates(), left_on=\"runnerId\", right_on=\"id\")\n",
    "year=23\n",
    "d_load = pd.read_csv(f\"raw_data/nyc/nyc_names{year}.csv\")\n",
    "times = pd.read_csv(f\"raw_data/nyc/nyc_times{year}.csv\")\n",
    "d_load.merge(times, left_on=\"runnerId\", right_on=\"id\").to_csv(f\"raw_data/nyc/nyc{year}.csv\")"
   ]
  },
  {
   "cell_type": "code",
   "execution_count": null,
   "metadata": {},
   "outputs": [],
   "source": []
  },
  {
   "cell_type": "markdown",
   "metadata": {},
   "source": [
    "Chicago"
   ]
  },
  {
   "cell_type": "code",
   "execution_count": null,
   "metadata": {},
   "outputs": [],
   "source": [
    "import requests\n",
    "import pandas as pd\n",
    "from bs4 import BeautifulSoup"
   ]
  },
  {
   "cell_type": "code",
   "execution_count": null,
   "metadata": {},
   "outputs": [],
   "source": [
    "def scrape_chi_data(yr=23):\n",
    "    event_param = {23: \"MAR_9TGG963812D\", 22: \"MAR_9TGG9638119\", 21: \"MAR_9TGG9638F1\", 19: \"MAR_999999107FA31100000000C9\"}\n",
    "    links_list = pd.read_csv(f\"raw_data/chicago/ids{year}.csv\")['0'].values\n",
    "\n",
    "    results = []\n",
    "    for idx, person in enumerate(links_list[:100]):\n",
    "        params = {\"content\" : \"detail\", \"idp\" : person, \"lang\" : \"EN\", \"event\" : event_param[year],}\n",
    "        response = requests.post(\"https://chicago-history.r.mikatiming.com/2023\", params=params)\n",
    "        soup = BeautifulSoup(response.text, 'lxml')\n",
    "        table = soup.find(\"table\", attrs={\"class\":\"table table-condensed table-striped\"})\n",
    "        rows = table.findAll(\"tr\")\n",
    "        splits = [[t.text.strip() for t in row.findAll([\"th\", \"td\"])][2] for row in rows[1:]]\n",
    "        rows2 = soup.findAll(name=\"table\", attrs={\"class\":\"table table-condensed\"})[1]#.findAll(\"th\")\n",
    "        info = [row.text.strip() for row in rows2.findAll([\"th\", \"td\"])][1::2]\n",
    "        results.append(info + splits)\n",
    "        print(idx)\n",
    "\n",
    "    mks = [[t.text.strip() for t in row.findAll([\"th\", \"td\"])][0] for row in rows[1:]]\n",
    "    cols = [row.text.strip() for row in rows2.findAll([\"th\", \"td\"])][::2]\n",
    "    pd.DataFrame(results, columns = cols + mks).to_csv(f\"raw_data/chicago/chi{yr}.csv\")\n"
   ]
  },
  {
   "cell_type": "code",
   "execution_count": null,
   "metadata": {},
   "outputs": [],
   "source": [
    "pd.DataFrame(results, columns = cols + mks).to_csv(\"\")"
   ]
  },
  {
   "cell_type": "code",
   "execution_count": null,
   "metadata": {},
   "outputs": [],
   "source": [
    "event_ = {23: \"MAR_9TGG963812D\", 22: \"MAR_9TGG9638119\", 21: \"MAR_9TGG9638F1\", 19: \"MAR_999999107FA31100000000C9\"}\n",
    "\n",
    "# params = {\n",
    "#     \"content\" : \"detail\",\n",
    "#     # \"fpid\" : \"search\",\n",
    "#     # \"pid\" : \"search\",\n",
    "#     \"idp\" : \"9TGG9638284476\",\n",
    "#     \"lang\" : \"EN\",\n",
    "#     \"event\" : \"MAR_9TGG963812D\",\n",
    "#     # \"lang\" : \"EN_CAP\",\n",
    "#     # \"search_event\" : \"ALL_EVENT_GROUP_2022\",\n",
    "# }\n",
    "\n",
    "params = {\"content\" : \"detail\", \"idp\" : \"9TGG9638284476\", \"lang\" : \"EN\", \"event\" : \"MAR_9TGG963812D\",}\n",
    "response = requests.post(\"https://chicago-history.r.mikatiming.com/2023\", params=params)\n",
    "soup = BeautifulSoup(response.text, 'lxml')\n",
    "table = soup.find(\"table\", attrs={\"class\":\"table table-condensed table-striped\"})\n",
    "rows = table.findAll(\"tr\")\n",
    "splits = [[t.text.strip() for t in row.findAll([\"th\", \"td\"])][2] for row in rows[1:]]\n",
    "splits"
   ]
  },
  {
   "cell_type": "code",
   "execution_count": null,
   "metadata": {},
   "outputs": [],
   "source": [
    "pd.DataFrame(splits_list, columns=[[t.text.strip() for t in row.findAll([\"th\", \"td\"])][0] for row in rows[1:]])\n"
   ]
  }
 ],
 "metadata": {
  "kernelspec": {
   "display_name": "base",
   "language": "python",
   "name": "python3"
  },
  "language_info": {
   "codemirror_mode": {
    "name": "ipython",
    "version": 3
   },
   "file_extension": ".py",
   "mimetype": "text/x-python",
   "name": "python",
   "nbconvert_exporter": "python",
   "pygments_lexer": "ipython3",
   "version": "3.8.3"
  }
 },
 "nbformat": 4,
 "nbformat_minor": 2
}
