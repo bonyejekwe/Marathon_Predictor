{
 "cells": [
  {
   "cell_type": "code",
   "execution_count": null,
   "metadata": {},
   "outputs": [],
   "source": [
    "import requests\n",
    "import json\n",
    "\n",
    "\n",
    "def get_runner_ids(eventCode=\"M2024\", place1=48000, place2=48010):\n",
    "    url = 'https://rmsprodapi.nyrr.org/api/v2/runners/finishers-filter'\n",
    "    header = {\"content-type\": \"application/json;charset=UTF-8\"}\n",
    "    j = {\"eventCode\": eventCode, \"overallPlaceFrom\": place1, \"overallPlaceTo\": place2,\n",
    "         \"sortColumn\": \"overallTime\", \"sortDescending\":\"false\"\n",
    "}\n",
    "    response = requests.post(url, headers=header, json=j, allow_redirects=True)\n",
    "    assert response.status_code == 200\n",
    "    print(response)\n",
    "    d = json.loads(response.text)\n",
    "    print(d[\"totalItems\"])\n",
    "    print(len(d[\"items\"]))\n",
    "    print(d[\"items\"][0][\"runnerId\"])\n",
    "    return d\n",
    "\n",
    "def get_splits(runner_id=42948497):\n",
    "    url = 'https://rmsprodapi.nyrr.org/api/v2/runners/resultDetails'\n",
    "    header = {\"content-type\": \"application/json;charset=UTF-8\"}\n",
    "    response = requests.post(url, headers=header, json={\"runnerId\": str(runner_id)}, allow_redirects=True)\n",
    "    assert response.status_code == 200, f\"Response Code = {response.status_code}\"\n",
    "    d = json.loads(response.text)\n",
    "    assert d[\"details\"], f\"No data specified, d = {d}\"\n",
    "    return d"
   ]
  },
  {
   "cell_type": "code",
   "execution_count": 2,
   "metadata": {},
   "outputs": [
    {
     "name": "stdout",
     "output_type": "stream",
     "text": [
      "<Response [200]>\n",
      "9\n",
      "9\n",
      "42323398\n"
     ]
    }
   ],
   "source": [
    "x = get_runner_ids(eventCode=\"M2023\", place1=51340, place2=51348)"
   ]
  },
  {
   "cell_type": "code",
   "execution_count": null,
   "metadata": {},
   "outputs": [],
   "source": []
  },
  {
   "cell_type": "code",
   "execution_count": 43,
   "metadata": {},
   "outputs": [],
   "source": [
    "# get_splits(runner_id=43928778)"
   ]
  },
  {
   "cell_type": "code",
   "execution_count": 2,
   "metadata": {},
   "outputs": [],
   "source": [
    "import time\n",
    "import pandas as pd\n",
    "feats = [\"runnerId\", \"bib\", \"firstName\", \"lastName\", \"age\", \"gender\", \"city\", \"countryCode\"]\n",
    "\n",
    "def load_data(last_runner=522, eventCode=\"M2024\"):\n",
    "    tables = []\n",
    "    for i in range(1, last_runner, 100):\n",
    "        place1, place2 = i, i+99\n",
    "        data = get_runner_ids(eventCode, place1, place2)\n",
    "        table = pd.DataFrame(data['items'])[feats]\n",
    "        tables.append(table)\n",
    "        if (i - 1) % 1000 == 0:\n",
    "            time.sleep(1)\n",
    "            print(\"loaded\", i - 1)\n",
    "\n",
    "    return tables"
   ]
  },
  {
   "cell_type": "code",
   "execution_count": 9,
   "metadata": {},
   "outputs": [],
   "source": [
    "# tables = load_data(last_runner=24949, eventCode=\"M2021\")\n",
    "# tables = load_data(last_runner=55270, eventCode=\"M2024\")\n",
    "# tables = load_data(last_runner=47745, eventCode=\"M2022\")\n",
    "# tables = load_data(last_runner=51348, eventCode=\"M2023\")\n",
    "# pd.concat(tables).to_csv(\"raw_data/nyc/nyc_names21.csv\", index=False)"
   ]
  },
  {
   "cell_type": "code",
   "execution_count": 18,
   "metadata": {},
   "outputs": [],
   "source": [
    "def loop_attempts(a_dict, n, year=23):\n",
    "    for i in range(n):\n",
    "        a_dict = attempt_scrape_iteration(a_dict, year=year)\n",
    "        num_left = len([k for k, v in a_dict.items() if v is None])\n",
    "        print(f\"{i}th cooldown, 30 seconds..........num left = {num_left}\")\n",
    "        pd.DataFrame([v for v in a_dict.values() if v is not None]).to_csv(f\"raw_data/nyc/nyc_times{year}.csv\")\n",
    "        if num_left == 0:\n",
    "            print(\"done!!!!\")\n",
    "            return a_dict\n",
    "        time.sleep(30)\n",
    "\n",
    "    return a_dict\n",
    "\n",
    "def attempt_scrape_iteration(adict, year=23):\n",
    "    ids = [k for k, v in adict.items() if v is None]\n",
    "    for idx, id in enumerate(ids):\n",
    "        try:\n",
    "            splits = get_splits(id)['details']['splitResults']\n",
    "            dt = {dct[\"splitCode\"]: dct[\"time\"] for dct in splits}\n",
    "            ser = pd.Series(dt)\n",
    "            ser[\"id\"] = id\n",
    "            adict[id] = ser\n",
    "\n",
    "            if idx % 1000 == 0:\n",
    "                print(\"loaded\", idx)\n",
    "                pd.DataFrame([v for v in adict.values() if v is not None]).to_csv(f\"raw_data/nyc/nyc_times{year}.csv\")\n",
    "\n",
    "            if idx % 100 == 0:\n",
    "                time.sleep(6.6)\n",
    "            if idx % 44 == 0:\n",
    "                time.sleep(4.4)\n",
    "            if idx % 55 == 0:\n",
    "                time.sleep(5.5)\n",
    "\n",
    "            # if idx == 10:\n",
    "            #     break\n",
    "\n",
    "        except AssertionError as e:\n",
    "            print(\"idx=\", idx, \":\", e)\n",
    "            break\n",
    "    \n",
    "    return adict"
   ]
  },
  {
   "cell_type": "code",
   "execution_count": 4,
   "metadata": {},
   "outputs": [
    {
     "name": "stdout",
     "output_type": "stream",
     "text": [
      "loaded 0\n",
      "loaded 1000\n",
      "loaded 2000\n",
      "loaded 3000\n",
      "loaded 4000\n",
      "loaded 5000\n",
      "loaded 6000\n",
      "loaded 7000\n",
      "loaded 8000\n",
      "loaded 9000\n",
      "loaded 10000\n",
      "loaded 11000\n",
      "loaded 12000\n",
      "loaded 13000\n",
      "loaded 14000\n",
      "loaded 15000\n",
      "loaded 16000\n",
      "loaded 17000\n",
      "loaded 18000\n",
      "loaded 19000\n",
      "loaded 20000\n",
      "loaded 21000\n",
      "loaded 22000\n",
      "loaded 23000\n",
      "loaded 24000\n",
      "0th cooldown, 30 seconds..........num left = 0\n",
      "done!!!!\n"
     ]
    }
   ],
   "source": [
    "year = 21\n",
    "data_load21 = pd.read_csv(f\"raw_data/nyc/nyc_names{year}.csv\")\n",
    "init_dict21 = {id: None for id in list(data_load21[\"runnerId\"])}\n",
    "adding_dict21 = loop_attempts(init_dict21, n=100, year=year)"
   ]
  },
  {
   "cell_type": "code",
   "execution_count": 20,
   "metadata": {},
   "outputs": [],
   "source": [
    "times21 = pd.DataFrame([v for v in adding_dict21.values() if v is not None])\n",
    "data_load21.merge(times21, left_on=\"runnerId\", right_on=\"id\").to_csv(\"raw_data/nyc/nyc21.csv\")"
   ]
  },
  {
   "cell_type": "code",
   "execution_count": 23,
   "metadata": {},
   "outputs": [
    {
     "name": "stdout",
     "output_type": "stream",
     "text": [
      "loaded 0\n",
      "0th cooldown, 30 seconds..........num left = 0\n",
      "done!!!!\n"
     ]
    }
   ],
   "source": [
    "year = 23\n",
    "data_load23 = pd.read_csv(f\"raw_data/nyc/nyc_names{year}.csv\")[:100]\n",
    "init_dict23 = {id: None for id in list(data_load23[\"runnerId\"])}\n",
    "adding_dict23 = loop_attempts(init_dict23, n=100, year=year)"
   ]
  },
  {
   "cell_type": "code",
   "execution_count": 24,
   "metadata": {},
   "outputs": [],
   "source": [
    "times23 = pd.DataFrame([v for v in adding_dict23.values() if v is not None])\n",
    "data_load23.merge(times23, left_on=\"runnerId\", right_on=\"id\").to_csv(\"raw_data/nyc/nyc23.csv\")"
   ]
  },
  {
   "cell_type": "code",
   "execution_count": 25,
   "metadata": {},
   "outputs": [
    {
     "name": "stdout",
     "output_type": "stream",
     "text": [
      "loaded 0\n",
      "0th cooldown, 30 seconds..........num left = 0\n",
      "done!!!!\n"
     ]
    }
   ],
   "source": [
    "year = 24\n",
    "data_load24 = pd.read_csv(f\"raw_data/nyc/nyc_names{year}.csv\")[:100]\n",
    "init_dict24 = {id: None for id in list(data_load24[\"runnerId\"])}\n",
    "adding_dict24 = loop_attempts(init_dict24, n=100, year=year)"
   ]
  },
  {
   "cell_type": "code",
   "execution_count": 26,
   "metadata": {},
   "outputs": [],
   "source": [
    "times24 = pd.DataFrame([v for v in adding_dict24.values() if v is not None])\n",
    "data_load24.merge(times24, left_on=\"runnerId\", right_on=\"id\").to_csv(\"raw_data/nyc/nyc24.csv\")"
   ]
  },
  {
   "cell_type": "code",
   "execution_count": 15,
   "metadata": {},
   "outputs": [
    {
     "data": {
      "text/plain": [
       "5K       0:18:38\n",
       "10K      0:37:09\n",
       "15K      0:55:29\n",
       "20K      1:13:54\n",
       "HALF     1:17:57\n",
       "25K      1:32:41\n",
       "30K      1:51:19\n",
       "20M      1:59:58\n",
       "35K      2:11:26\n",
       "40K      2:32:25\n",
       "25.2M    2:34:45\n",
       "26M      2:40:02\n",
       "MAR      2:41:25\n",
       "dtype: object"
      ]
     },
     "execution_count": 15,
     "metadata": {},
     "output_type": "execute_result"
    }
   ],
   "source": [
    "s = pd.Series({dct[\"splitCode\"]: dct[\"time\"] for dct in get_splits(id)['details']['splitResults']})\n",
    "s['id']"
   ]
  },
  {
   "cell_type": "code",
   "execution_count": 82,
   "metadata": {},
   "outputs": [],
   "source": [
    "marks = [\"5K\", \"10K\", \"15K\", \"20K\", \"HALF\", \"25K\", \"30K\", \"35K\", \"40K\", \"MAR\"]"
   ]
  },
  {
   "cell_type": "code",
   "execution_count": 9,
   "metadata": {},
   "outputs": [
    {
     "ename": "IndexError",
     "evalue": "list index out of range",
     "output_type": "error",
     "traceback": [
      "\u001b[0;31m---------------------------------------------------------------------------\u001b[0m",
      "\u001b[0;31mIndexError\u001b[0m                                Traceback (most recent call last)",
      "Cell \u001b[0;32mIn[9], line 1\u001b[0m\n\u001b[0;32m----> 1\u001b[0m test_id \u001b[38;5;241m=\u001b[39m\u001b[43md2\u001b[49m\u001b[43m[\u001b[49m\u001b[38;5;124;43m'\u001b[39;49m\u001b[38;5;124;43mitems\u001b[39;49m\u001b[38;5;124;43m'\u001b[39;49m\u001b[43m]\u001b[49m\u001b[43m[\u001b[49m\u001b[38;5;241;43m0\u001b[39;49m\u001b[43m]\u001b[49m[\u001b[38;5;124m\"\u001b[39m\u001b[38;5;124mrunnerId\u001b[39m\u001b[38;5;124m\"\u001b[39m]\n\u001b[1;32m      2\u001b[0m d3 \u001b[38;5;241m=\u001b[39m get_splits(runner_id \u001b[38;5;241m=\u001b[39m test_id)\n\u001b[1;32m      3\u001b[0m d3\n",
      "\u001b[0;31mIndexError\u001b[0m: list index out of range"
     ]
    }
   ],
   "source": [
    "test_id =d2['items'][0][\"runnerId\"]\n",
    "d3 = get_splits(runner_id = test_id)\n",
    "d3"
   ]
  },
  {
   "cell_type": "code",
   "execution_count": 52,
   "metadata": {},
   "outputs": [
    {
     "data": {
      "text/plain": [
       "{'runnerId': 42939236,\n",
       " 'bib': '1300',\n",
       " 'teamName': None,\n",
       " 'iaaf': 'USA',\n",
       " 'placeOverall': 230,\n",
       " 'gunPlaceOverall': 237,\n",
       " 'netPlaceOverall': 230,\n",
       " 'timeOverall': '2:34:54',\n",
       " 'gunTime': '2:35:34',\n",
       " 'netTime': '2:34:54',\n",
       " 'scoreByNetTime': True,\n",
       " 'pace': '05:55',\n",
       " 'placeGender': 209,\n",
       " 'placeAgeGroup': 67,\n",
       " 'ageGroupFromTo': '30-34',\n",
       " 'timeAgeGrade': '2:34:54',\n",
       " 'placeAgeGrade': 456,\n",
       " 'percentAgeGrade': 79.38,\n",
       " 'placeCountry': 137,\n",
       " 'speed': 10.2,\n",
       " 'photoUrl': 'https://www.marathonfoto.com/In?RaceOID=27042024F2&LastName=Harper&BibNumber=1300',\n",
       " 'basnoPhotoUrl': '',\n",
       " 'splitResults': [{'splitCode': '5K',\n",
       "   'splitName': None,\n",
       "   'time': '0:18:29',\n",
       "   'pace': '05:57',\n",
       "   'speed': 10.1,\n",
       "   'distance': 3.11},\n",
       "  {'splitCode': '10K',\n",
       "   'splitName': None,\n",
       "   'time': '0:36:37',\n",
       "   'pace': '05:54',\n",
       "   'speed': 10.2,\n",
       "   'distance': 6.21},\n",
       "  {'splitCode': '15K',\n",
       "   'splitName': None,\n",
       "   'time': '0:54:51',\n",
       "   'pace': '05:54',\n",
       "   'speed': 10.2,\n",
       "   'distance': 9.32},\n",
       "  {'splitCode': '20K',\n",
       "   'splitName': None,\n",
       "   'time': '1:13:01',\n",
       "   'pace': '05:53',\n",
       "   'speed': 10.2,\n",
       "   'distance': 12.43},\n",
       "  {'splitCode': 'HALF',\n",
       "   'splitName': None,\n",
       "   'time': '1:17:02',\n",
       "   'pace': '05:53',\n",
       "   'speed': 10.2,\n",
       "   'distance': 13.1},\n",
       "  {'splitCode': '25K',\n",
       "   'splitName': None,\n",
       "   'time': '1:31:36',\n",
       "   'pace': '05:54',\n",
       "   'speed': 10.2,\n",
       "   'distance': 15.53},\n",
       "  {'splitCode': '30K',\n",
       "   'splitName': None,\n",
       "   'time': '1:49:47',\n",
       "   'pace': '05:54',\n",
       "   'speed': 10.2,\n",
       "   'distance': 18.64},\n",
       "  {'splitCode': '20M',\n",
       "   'splitName': None,\n",
       "   'time': '1:57:47',\n",
       "   'pace': '05:54',\n",
       "   'speed': 10.2,\n",
       "   'distance': 20.0},\n",
       "  {'splitCode': '35K',\n",
       "   'splitName': None,\n",
       "   'time': '2:08:06',\n",
       "   'pace': '05:54',\n",
       "   'speed': 10.2,\n",
       "   'distance': 21.75},\n",
       "  {'splitCode': '40K',\n",
       "   'splitName': None,\n",
       "   'time': '2:26:38',\n",
       "   'pace': '05:54',\n",
       "   'speed': 10.2,\n",
       "   'distance': 24.85},\n",
       "  {'splitCode': '25.2M',\n",
       "   'splitName': None,\n",
       "   'time': '2:28:48',\n",
       "   'pace': '05:54',\n",
       "   'speed': 10.2,\n",
       "   'distance': None},\n",
       "  {'splitCode': '26M',\n",
       "   'splitName': None,\n",
       "   'time': '2:33:33',\n",
       "   'pace': '05:55',\n",
       "   'speed': 10.2,\n",
       "   'distance': 26.0},\n",
       "  {'splitCode': 'MAR',\n",
       "   'splitName': None,\n",
       "   'time': '2:34:54',\n",
       "   'pace': '05:55',\n",
       "   'speed': 10.2,\n",
       "   'distance': 26.22}],\n",
       " 'overallTotalPlaces': 55529,\n",
       " 'genderTotalPlaces': 30701,\n",
       " 'ageGroupTotalPlaces': 4756,\n",
       " 'ageGradedTotalPlaces': 30701,\n",
       " 'countryTotalPlaces': 33368}"
      ]
     },
     "execution_count": 52,
     "metadata": {},
     "output_type": "execute_result"
    }
   ],
   "source": [
    "d3[\"details\"]"
   ]
  },
  {
   "cell_type": "code",
   "execution_count": null,
   "metadata": {},
   "outputs": [],
   "source": []
  },
  {
   "cell_type": "code",
   "execution_count": null,
   "metadata": {},
   "outputs": [],
   "source": []
  },
  {
   "cell_type": "code",
   "execution_count": 35,
   "metadata": {},
   "outputs": [
    {
     "name": "stdout",
     "output_type": "stream",
     "text": [
      "<Response [200]>\n"
     ]
    }
   ],
   "source": [
    "import json\n",
    "# url = 'https://rmsprodapi.nyrr.org/api/v2/runners/eventRunner'\n",
    "url = 'https://rmsprodapi.nyrr.org/api/v2/runners/resultDetails'\n",
    "j = {\"eventCode\": \"M2024\", \"bib\": \"4\"}\n",
    "header = {\"content-type\": \"application/json;charset=UTF-8\"}\n",
    "response = requests.post(url, headers=header, json=j, allow_redirects=True)\n",
    "print(response)"
   ]
  },
  {
   "cell_type": "code",
   "execution_count": null,
   "metadata": {},
   "outputs": [],
   "source": []
  },
  {
   "cell_type": "code",
   "execution_count": 23,
   "metadata": {},
   "outputs": [
    {
     "data": {
      "text/plain": [
       "{'runnerId': 42948497,\n",
       " 'bib': '7',\n",
       " 'teamName': 'NIKE',\n",
       " 'iaaf': 'NED',\n",
       " 'placeOverall': 1,\n",
       " 'gunPlaceOverall': 1,\n",
       " 'netPlaceOverall': 1,\n",
       " 'timeOverall': '2:07:39',\n",
       " 'gunTime': '2:07:39',\n",
       " 'netTime': '2:07:39',\n",
       " 'scoreByNetTime': True,\n",
       " 'pace': '04:53',\n",
       " 'placeGender': 1,\n",
       " 'placeAgeGroup': 1,\n",
       " 'ageGroupFromTo': '35-39',\n",
       " 'timeAgeGrade': '2:06:57',\n",
       " 'placeAgeGrade': 1,\n",
       " 'percentAgeGrade': 96.86,\n",
       " 'placeCountry': 1,\n",
       " 'speed': 12.3,\n",
       " 'photoUrl': 'https://www.marathonfoto.com/In?RaceOID=27042024F2&LastName=Nageeye&BibNumber=7',\n",
       " 'basnoPhotoUrl': '',\n",
       " 'splitResults': [{'splitCode': '5K',\n",
       "   'splitName': None,\n",
       "   'time': '0:16:02',\n",
       "   'pace': '05:10',\n",
       "   'speed': 11.6,\n",
       "   'distance': 3.11},\n",
       "  {'splitCode': '10K',\n",
       "   'splitName': None,\n",
       "   'time': '0:31:28',\n",
       "   'pace': '05:04',\n",
       "   'speed': 11.9,\n",
       "   'distance': 6.21},\n",
       "  {'splitCode': '15K',\n",
       "   'splitName': None,\n",
       "   'time': '0:46:55',\n",
       "   'pace': '05:02',\n",
       "   'speed': 11.9,\n",
       "   'distance': 9.32},\n",
       "  {'splitCode': '20K',\n",
       "   'splitName': None,\n",
       "   'time': '1:02:21',\n",
       "   'pace': '05:01',\n",
       "   'speed': 12.0,\n",
       "   'distance': 12.43},\n",
       "  {'splitCode': 'HALF',\n",
       "   'splitName': None,\n",
       "   'time': '1:05:35',\n",
       "   'pace': '05:01',\n",
       "   'speed': 12.0,\n",
       "   'distance': 13.1},\n",
       "  {'splitCode': '25K',\n",
       "   'splitName': None,\n",
       "   'time': '1:17:48',\n",
       "   'pace': '05:01',\n",
       "   'speed': 12.0,\n",
       "   'distance': 15.53},\n",
       "  {'splitCode': '30K',\n",
       "   'splitName': None,\n",
       "   'time': '1:31:58',\n",
       "   'pace': '04:56',\n",
       "   'speed': 12.2,\n",
       "   'distance': 18.64},\n",
       "  {'splitCode': '20M',\n",
       "   'splitName': None,\n",
       "   'time': '1:38:17',\n",
       "   'pace': '04:55',\n",
       "   'speed': 12.2,\n",
       "   'distance': 20.0},\n",
       "  {'splitCode': '35K',\n",
       "   'splitName': None,\n",
       "   'time': '1:46:20',\n",
       "   'pace': '04:54',\n",
       "   'speed': 12.3,\n",
       "   'distance': 21.75},\n",
       "  {'splitCode': '40K',\n",
       "   'splitName': None,\n",
       "   'time': '2:01:10',\n",
       "   'pace': '04:53',\n",
       "   'speed': 12.3,\n",
       "   'distance': 24.85},\n",
       "  {'splitCode': '25.2M',\n",
       "   'splitName': None,\n",
       "   'time': '2:02:52',\n",
       "   'pace': '04:53',\n",
       "   'speed': 12.3,\n",
       "   'distance': None},\n",
       "  {'splitCode': '26M',\n",
       "   'splitName': None,\n",
       "   'time': '2:06:36',\n",
       "   'pace': '04:53',\n",
       "   'speed': 12.3,\n",
       "   'distance': 26.0},\n",
       "  {'splitCode': 'MAR',\n",
       "   'splitName': None,\n",
       "   'time': '2:07:39',\n",
       "   'pace': '04:53',\n",
       "   'speed': 12.3,\n",
       "   'distance': 26.22}],\n",
       " 'overallTotalPlaces': 55529,\n",
       " 'genderTotalPlaces': 30701,\n",
       " 'ageGroupTotalPlaces': 4444,\n",
       " 'ageGradedTotalPlaces': 30701,\n",
       " 'countryTotalPlaces': 959}"
      ]
     },
     "execution_count": 23,
     "metadata": {},
     "output_type": "execute_result"
    }
   ],
   "source": [
    "json.loads(response.text)[\"details\"]"
   ]
  }
 ],
 "metadata": {
  "kernelspec": {
   "display_name": "base",
   "language": "python",
   "name": "python3"
  },
  "language_info": {
   "codemirror_mode": {
    "name": "ipython",
    "version": 3
   },
   "file_extension": ".py",
   "mimetype": "text/x-python",
   "name": "python",
   "nbconvert_exporter": "python",
   "pygments_lexer": "ipython3",
   "version": "3.8.3"
  }
 },
 "nbformat": 4,
 "nbformat_minor": 2
}
