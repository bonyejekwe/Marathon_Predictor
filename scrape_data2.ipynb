{
 "cells": [
  {
   "cell_type": "code",
   "execution_count": 1,
   "metadata": {},
   "outputs": [],
   "source": [
    "from scrape_data import get_runner_ids, get_splits, load_nyc_data\n",
    "import pandas as pd\n",
    "# import requests\n",
    "# import json\n",
    "\n",
    "# x = get_runner_ids(eventCode=\"M2023\", place1=51340, place2=51348)\n",
    "# get_splits(runner_id=43928778)  # AssertionError\n",
    "\n",
    "# tables = load_nyc_data(last_runner=53520, eventCode=\"M2019\")\n",
    "# tables = load_data(last_runner=24949, eventCode=\"M2021\") # 216mins\n",
    "# tables = load_data(last_runner=47745, eventCode=\"M2022\")\n",
    "# tables = load_data(last_runner=51348, eventCode=\"M2023\")\n",
    "# tables = load_data(last_runner=55270, eventCode=\"M2024\")\n",
    "# pd.concat(tables).to_csv(\"raw_data/nyc/nyc_names21.csv\", index=False)"
   ]
  },
  {
   "cell_type": "code",
   "execution_count": null,
   "metadata": {},
   "outputs": [],
   "source": [
    "# pd.concat(tables).to_csv(\"raw_data/nyc/nyc_names19.csv\", index=False)"
   ]
  },
  {
   "cell_type": "code",
   "execution_count": 2,
   "metadata": {},
   "outputs": [],
   "source": [
    "import time\n",
    "\n",
    "def loop_attempts(a_dict, n, year=23):\n",
    "    for i in range(n):\n",
    "        a_dict = attempt_scrape_iteration(a_dict, year=year)\n",
    "        num_left = len([k for k, v in a_dict.items() if v is None])\n",
    "        print(f\"{i}th cooldown, 30 seconds..........num left = {num_left}\")\n",
    "        pd.DataFrame([v for v in a_dict.values() if v is not None]).to_csv(f\"raw_data/nyc/nyc_times{year}.csv\")\n",
    "        if num_left == 0:\n",
    "            print(\"done!!!!\")\n",
    "            return a_dict\n",
    "        time.sleep(30)\n",
    "\n",
    "    return a_dict\n",
    "\n",
    "def attempt_scrape_iteration(adict, year=23):\n",
    "    ids = [k for k, v in adict.items() if v is None]\n",
    "    for idx, id in enumerate(ids):\n",
    "        try:\n",
    "            splits = get_splits(id)['details']['splitResults']\n",
    "            dt = {dct[\"splitCode\"]: dct[\"time\"] for dct in splits}\n",
    "            ser = pd.Series(dt)\n",
    "            ser[\"id\"] = id\n",
    "            adict[id] = ser\n",
    "\n",
    "            if idx % 100 == 0:\n",
    "                print(\"loaded\", idx)\n",
    "                pd.DataFrame([v for v in adict.values() if v is not None]).to_csv(f\"raw_data/nyc/nyc_times{year}.csv\")\n",
    "\n",
    "            if idx % 100 == 0:\n",
    "                time.sleep(6.6)\n",
    "            if idx % 44 == 0:\n",
    "                time.sleep(4.4)\n",
    "            if idx % 55 == 0:\n",
    "                time.sleep(5.5)\n",
    "\n",
    "            # if idx == 10:\n",
    "            #     break\n",
    "\n",
    "        except Exception as e:\n",
    "            print(\"idx=\", idx, \":\", e)\n",
    "            break\n",
    "    \n",
    "    return adict"
   ]
  },
  {
   "cell_type": "code",
   "execution_count": 56,
   "metadata": {},
   "outputs": [
    {
     "data": {
      "text/plain": [
       "(47745, 37144)"
      ]
     },
     "execution_count": 56,
     "metadata": {},
     "output_type": "execute_result"
    }
   ],
   "source": [
    "#del\n",
    "import json\n",
    "import requests\n",
    "\n",
    "# def get_splits(runner_id=42948497):\n",
    "#     url = 'https://rmsprodapi.nyrr.org/api/v2/runners/resultDetails/'\n",
    "#     header = {\"content-type\": \"application/json;charset=UTF-8\"}\n",
    "#     response = requests.get(url, headers=header, json={\"runnerId\": str(runner_id)}, allow_redirects=True)\n",
    "#     assert response.status_code == 200, f\"Response Code = {response.status_code}\"\n",
    "#     d = json.loads(response.text)\n",
    "#     assert d[\"details\"], f\"No data specified, d = {d}\"\n",
    "#     return d\n",
    "\n",
    "\n",
    "year = 22\n",
    "data_load21 = set(pd.read_csv(f\"raw_data/nyc/nyc_names{year}.csv\")[\"runnerId\"])\n",
    "left = data_load21 - set(pd.read_csv(\"raw_data/nyc/nyc_times22_new.csv\")[\"id\"])\n",
    "init_dict21 = {id: None for id in data_load21}\n",
    "ids = data_load21\n",
    "# url = 'https://rmsprodapi.nyrr.org/api/v2/runners/resultDetails/'\n",
    "# header = {\"content-type\": \"application/json;charset=UTF-8\"}\n",
    "# s = requests.Session()\n",
    "# for id in ids:\n",
    "#     response = s.post(url, headers=header, json={\"runnerId\":id}, allow_redirects=True, timeout=10)\n",
    "len(ids), len(left)"
   ]
  },
  {
   "cell_type": "code",
   "execution_count": 79,
   "metadata": {},
   "outputs": [],
   "source": [
    "combined = pd.concat([pd.read_csv(\"raw_data/nyc/nyc_times22.csv\"), pd.read_csv(\"raw_data/nyc/nyc_times22_.csv\")])\n",
    "combined.drop(\"Unnamed: 0\", axis=1).drop_duplicates().to_csv(\"raw_data/nyc/nyc_times22.csv\", index=False)\n",
    "# combined.drop(\"Unnamed: 0\", axis=1).drop_duplicates()"
   ]
  },
  {
   "cell_type": "code",
   "execution_count": 81,
   "metadata": {},
   "outputs": [],
   "source": [
    "\n",
    "# pd.read_csv(f\"raw_data/nyc/nyc_names{year}.csv\").merge(combined.drop(\"Unnamed: 0\", axis=1).drop_duplicates(), left_on=\"runnerId\", right_on=\"id\")\n",
    "\n",
    "\n",
    "d_load = pd.read_csv(f\"raw_data/nyc/nyc_names{year}.csv\")\n",
    "times = pd.read_csv(f\"raw_data/nyc/nyc_times{year}.csv\")\n",
    "d_load.merge(times, left_on=\"runnerId\", right_on=\"id\").to_csv(f\"raw_data/nyc/nyc{year}.csv\")"
   ]
  },
  {
   "cell_type": "code",
   "execution_count": null,
   "metadata": {},
   "outputs": [
    {
     "data": {
      "text/plain": [
       "{39876379: None, 39846321: None}"
      ]
     },
     "execution_count": 6,
     "metadata": {},
     "output_type": "execute_result"
    }
   ],
   "source": [
    "year = 21\n",
    "data_load21 = pd.read_csv(f\"raw_data/nyc/nyc_names{year}.csv\")\n",
    "init_dict21 = {id: None for id in list(data_load21[\"runnerId\"])}\n",
    "adding_dict21 = loop_attempts(init_dict21, n=100, year=year)"
   ]
  },
  {
   "cell_type": "code",
   "execution_count": null,
   "metadata": {},
   "outputs": [],
   "source": [
    "times21 = pd.DataFrame([v for v in adding_dict21.values() if v is not None])\n",
    "data_load21.merge(times21, left_on=\"runnerId\", right_on=\"id\")#.to_csv(\"raw_data/nyc/nyc21.csv\")"
   ]
  },
  {
   "cell_type": "code",
   "execution_count": null,
   "metadata": {},
   "outputs": [],
   "source": [
    "# ids = pd.read_csv(\"raw_data/nyc/nyc_names22.csv\")[\"runnerId\"].values\n",
    "# ids_done = pd.read_csv(\"raw_data/nyc/nyc_times22.csv\")[\"id\"].values\n",
    "# ids_left = [i for i in ids if i not in ids_done]"
   ]
  },
  {
   "cell_type": "code",
   "execution_count": null,
   "metadata": {},
   "outputs": [],
   "source": [
    "year = 22\n",
    "data_load22 = pd.read_csv(f\"raw_data/nyc/nyc_names{year}.csv\")\n",
    "init_dict22 = {id: None for id in list(data_load22[\"runnerId\"])}\n",
    "# adding_dict22 = loop_attempts(init_dict22, n=100, year=year)"
   ]
  },
  {
   "cell_type": "code",
   "execution_count": null,
   "metadata": {},
   "outputs": [],
   "source": [
    "data_load22[\"runnerId\"][16]"
   ]
  },
  {
   "cell_type": "code",
   "execution_count": null,
   "metadata": {},
   "outputs": [],
   "source": [
    "s = pd.Series({dct[\"splitCode\"]: dct[\"time\"] for dct in get_splits(id)['details']['splitResults']})\n",
    "s['id']"
   ]
  },
  {
   "cell_type": "code",
   "execution_count": null,
   "metadata": {},
   "outputs": [],
   "source": [
    "marks = [\"5K\", \"10K\", \"15K\", \"20K\", \"HALF\", \"25K\", \"30K\", \"35K\", \"40K\", \"MAR\"]"
   ]
  },
  {
   "cell_type": "code",
   "execution_count": null,
   "metadata": {},
   "outputs": [],
   "source": [
    "test_id =d2['items'][0][\"runnerId\"]\n",
    "d3 = get_splits(runner_id = test_id)\n",
    "d3"
   ]
  },
  {
   "cell_type": "code",
   "execution_count": null,
   "metadata": {},
   "outputs": [],
   "source": [
    "d3[\"details\"]"
   ]
  },
  {
   "cell_type": "code",
   "execution_count": null,
   "metadata": {},
   "outputs": [],
   "source": []
  },
  {
   "cell_type": "code",
   "execution_count": null,
   "metadata": {},
   "outputs": [],
   "source": []
  },
  {
   "cell_type": "code",
   "execution_count": null,
   "metadata": {},
   "outputs": [],
   "source": [
    "import json\n",
    "# url = 'https://rmsprodapi.nyrr.org/api/v2/runners/eventRunner'\n",
    "url = 'https://rmsprodapi.nyrr.org/api/v2/runners/resultDetails'\n",
    "j = {\"eventCode\": \"M2024\", \"bib\": \"4\"}\n",
    "header = {\"content-type\": \"application/json;charset=UTF-8\"}\n",
    "response = requests.post(url, headers=header, json=j, allow_redirects=True)\n",
    "print(response)"
   ]
  },
  {
   "cell_type": "code",
   "execution_count": null,
   "metadata": {},
   "outputs": [],
   "source": []
  },
  {
   "cell_type": "code",
   "execution_count": null,
   "metadata": {},
   "outputs": [],
   "source": [
    "json.loads(response.text)[\"details\"]"
   ]
  },
  {
   "cell_type": "markdown",
   "metadata": {},
   "source": [
    "Chicago"
   ]
  },
  {
   "cell_type": "code",
   "execution_count": null,
   "metadata": {},
   "outputs": [],
   "source": [
    "import requests\n",
    "import pandas as pd\n",
    "from bs4 import BeautifulSoup"
   ]
  },
  {
   "cell_type": "code",
   "execution_count": null,
   "metadata": {},
   "outputs": [],
   "source": [
    "def scrape_chi_data(yr=23):\n",
    "    event_param = {23: \"MAR_9TGG963812D\", 22: \"MAR_9TGG9638119\", 21: \"MAR_9TGG9638F1\", 19: \"MAR_999999107FA31100000000C9\"}\n",
    "    links_list = pd.read_csv(f\"raw_data/chicago/ids{year}.csv\")['0'].values\n",
    "\n",
    "    results = []\n",
    "    for idx, person in enumerate(links_list[:100]):\n",
    "        params = {\"content\" : \"detail\", \"idp\" : person, \"lang\" : \"EN\", \"event\" : event_param[year],}\n",
    "        response = requests.post(\"https://chicago-history.r.mikatiming.com/2023\", params=params)\n",
    "        soup = BeautifulSoup(response.text, 'lxml')\n",
    "        table = soup.find(\"table\", attrs={\"class\":\"table table-condensed table-striped\"})\n",
    "        rows = table.findAll(\"tr\")\n",
    "        splits = [[t.text.strip() for t in row.findAll([\"th\", \"td\"])][2] for row in rows[1:]]\n",
    "        rows2 = soup.findAll(name=\"table\", attrs={\"class\":\"table table-condensed\"})[1]#.findAll(\"th\")\n",
    "        info = [row.text.strip() for row in rows2.findAll([\"th\", \"td\"])][1::2]\n",
    "        results.append(info + splits)\n",
    "        print(idx)\n",
    "\n",
    "    mks = [[t.text.strip() for t in row.findAll([\"th\", \"td\"])][0] for row in rows[1:]]\n",
    "    cols = [row.text.strip() for row in rows2.findAll([\"th\", \"td\"])][::2]\n",
    "    pd.DataFrame(results, columns = cols + mks).to_csv(f\"raw_data/chicago/chi{yr}.csv\")\n"
   ]
  },
  {
   "cell_type": "code",
   "execution_count": null,
   "metadata": {},
   "outputs": [],
   "source": [
    "pd.DataFrame(results, columns = cols + mks).to_csv(\"\")"
   ]
  },
  {
   "cell_type": "code",
   "execution_count": null,
   "metadata": {},
   "outputs": [],
   "source": [
    "event_ = {23: \"MAR_9TGG963812D\", 22: \"MAR_9TGG9638119\", 21: \"MAR_9TGG9638F1\", 19: \"MAR_999999107FA31100000000C9\"}\n",
    "\n",
    "# params = {\n",
    "#     \"content\" : \"detail\",\n",
    "#     # \"fpid\" : \"search\",\n",
    "#     # \"pid\" : \"search\",\n",
    "#     \"idp\" : \"9TGG9638284476\",\n",
    "#     \"lang\" : \"EN\",\n",
    "#     \"event\" : \"MAR_9TGG963812D\",\n",
    "#     # \"lang\" : \"EN_CAP\",\n",
    "#     # \"search_event\" : \"ALL_EVENT_GROUP_2022\",\n",
    "# }\n",
    "\n",
    "params = {\"content\" : \"detail\", \"idp\" : \"9TGG9638284476\", \"lang\" : \"EN\", \"event\" : \"MAR_9TGG963812D\",}\n",
    "response = requests.post(\"https://chicago-history.r.mikatiming.com/2023\", params=params)\n",
    "soup = BeautifulSoup(response.text, 'lxml')\n",
    "table = soup.find(\"table\", attrs={\"class\":\"table table-condensed table-striped\"})\n",
    "rows = table.findAll(\"tr\")\n",
    "splits = [[t.text.strip() for t in row.findAll([\"th\", \"td\"])][2] for row in rows[1:]]\n",
    "splits"
   ]
  },
  {
   "cell_type": "code",
   "execution_count": null,
   "metadata": {},
   "outputs": [],
   "source": [
    "pd.DataFrame(splits_list, columns=[[t.text.strip() for t in row.findAll([\"th\", \"td\"])][0] for row in rows[1:]])\n"
   ]
  }
 ],
 "metadata": {
  "kernelspec": {
   "display_name": "base",
   "language": "python",
   "name": "python3"
  },
  "language_info": {
   "codemirror_mode": {
    "name": "ipython",
    "version": 3
   },
   "file_extension": ".py",
   "mimetype": "text/x-python",
   "name": "python",
   "nbconvert_exporter": "python",
   "pygments_lexer": "ipython3",
   "version": "3.8.3"
  }
 },
 "nbformat": 4,
 "nbformat_minor": 2
}
